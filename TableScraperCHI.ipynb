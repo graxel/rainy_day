{
 "cells": [
  {
   "cell_type": "code",
   "execution_count": 4,
   "metadata": {
    "scrolled": false
   },
   "outputs": [
    {
     "name": "stdout",
     "output_type": "stream",
     "text": [
      "Chicago weather data for 5/2017 scraped in 24.042929 s\n",
      "Chicago weather data for 6/2017 scraped in 14.334553 s\n",
      "Chicago weather data for 7/2017 scraped in 38.354053 s\n",
      "Chicago weather data for 8/2017 scraped in 169.75642 s\n",
      "Chicago weather data for 9/2017 scraped in 162.172821 s\n",
      "Chicago weather data for 10/2017 scraped in 159.483006 s\n",
      "Chicago weather data for 11/2017 scraped in 158.759078 s\n",
      "Chicago weather data for 12/2017 scraped in 15.309494 s\n",
      "Chicago weather data for 1/2018 scraped in 158.394532 s\n",
      "Chicago weather data for 2/2018 scraped in 13.836256 s\n",
      "Chicago weather data for 3/2018 scraped in 163.158942 s\n",
      "Chicago weather data for 4/2018 scraped in 13.879502 s\n",
      "Chicago weather data for 5/2018 scraped in 165.452612 s\n",
      "Chicago weather data for 6/2018 scraped in 162.799988 s\n",
      "Chicago weather data for 7/2018 scraped in 161.793229 s\n"
     ]
    }
   ],
   "source": [
    "import time\n",
    "import requests\n",
    "from bs4 import BeautifulSoup\n",
    "import pandas as pd\n",
    "import numpy as np\n",
    "import selenium\n",
    "from datetime import datetime\n",
    "from datetime import timedelta\n",
    "from selenium import webdriver\n",
    "from selenium.webdriver.common.keys import Keys\n",
    "import os\n",
    "import csv\n",
    "import random\n",
    "\n",
    "\n",
    "def read_webpage(driver,url):\n",
    "        \n",
    "    driver.get(url)\n",
    "\n",
    "    time.sleep(random.randint(5,12))\n",
    "    xp = '//app/city-history/city-history-layout/div/div[2]/'\\\n",
    "            + 'section/div[2]/div[3]/div/div/div/div/'\\\n",
    "            + 'city-history-observation/div/div[2]/table/tbody'\n",
    "    \n",
    "    webpage_data = driver.find_element_by_xpath(xp)\n",
    "\n",
    "    return webpage_data\n",
    "\n",
    "\n",
    "chromedriver = '/Users/grazillionaire/Documents/chromedriver' # path to the chromedriver executable\n",
    "os.environ[\"webdriver.chrome.driver\"] = chromedriver\n",
    "\n",
    "driver = webdriver.Chrome(chromedriver)\n",
    "\n",
    "\n",
    "# Generate list of dates (months) to pull weather data for.\n",
    "\n",
    "# For Chicago\n",
    "city = 'il/chicago/KORD'\n",
    "start_date = datetime(2001,1,1)\n",
    "end_date = datetime(2018,12,1)\n",
    "\n",
    "\n",
    "# For New York\n",
    "#city = 'ny/new-york/KNYC'\n",
    "#start_date = datetime(2010,5,1)\n",
    "#end_date = datetime.today()\n",
    "\n",
    "date_list = pd.Series(pd.date_range(start_date,end_date,freq='MS'))\n",
    "\n",
    "for date in date_list:\n",
    "    \n",
    "    url = 'https://www.wunderground.com/history/monthly/us/{loc}/date/{y}-{m}?cm_ven=localwx_history'\\\n",
    "          .format(loc=city, y=date.year, m=date.month)\n",
    "    \n",
    "    # Record start time (for scraper performance purposes)\n",
    "    start_time = datetime.now()\n",
    "    webpage_data = read_webpage(driver, url)\n",
    "\n",
    "    storage = open('CHI weather data/CHI-{y}-{m}.txt'\\\n",
    "                  .format(y=date.year, m=date.month), 'w')\n",
    "    \n",
    "    storage.write(webpage_data.text)\n",
    "    \n",
    "    stop_time = datetime.now()\n",
    "    elapsed = stop_time-start_time\n",
    "\n",
    "    print('New weather data for ',date.month,'/',date.year,' scraped in ',\n",
    "          elapsed.seconds + elapsed.microseconds/1000000, ' s', sep='')\n",
    "\n",
    "driver.close()"
   ]
  },
  {
   "cell_type": "code",
   "execution_count": null,
   "metadata": {},
   "outputs": [],
   "source": []
  },
  {
   "cell_type": "code",
   "execution_count": null,
   "metadata": {},
   "outputs": [],
   "source": []
  },
  {
   "cell_type": "code",
   "execution_count": null,
   "metadata": {},
   "outputs": [],
   "source": []
  },
  {
   "cell_type": "code",
   "execution_count": null,
   "metadata": {},
   "outputs": [],
   "source": []
  },
  {
   "cell_type": "code",
   "execution_count": null,
   "metadata": {},
   "outputs": [],
   "source": []
  }
 ],
 "metadata": {
  "kernelspec": {
   "display_name": "Python 3",
   "language": "python",
   "name": "python3"
  },
  "language_info": {
   "codemirror_mode": {
    "name": "ipython",
    "version": 3
   },
   "file_extension": ".py",
   "mimetype": "text/x-python",
   "name": "python",
   "nbconvert_exporter": "python",
   "pygments_lexer": "ipython3",
   "version": "3.7.1"
  }
 },
 "nbformat": 4,
 "nbformat_minor": 2
}
