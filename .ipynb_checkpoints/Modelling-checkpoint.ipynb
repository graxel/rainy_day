{
 "cells": [
  {
   "cell_type": "code",
   "execution_count": 63,
   "metadata": {},
   "outputs": [],
   "source": [
    "from sklearn.linear_model import LinearRegression\n",
    "from sklearn.linear_model import Ridge\n",
    "from sklearn.linear_model import Lasso\n",
    "from sklearn.linear_model import ElasticNet\n",
    "from sklearn.metrics import mean_squared_error\n",
    "from sklearn.model_selection import train_test_split\n",
    "import pickle\n",
    "import pandas as pd\n",
    "from matplotlib import pyplot as plt\n",
    "import math"
   ]
  },
  {
   "cell_type": "code",
   "execution_count": 59,
   "metadata": {},
   "outputs": [
    {
     "data": {
      "text/plain": [
       "Index(['bus', 'rail_boardings', 'total_rides', 'is_sat', 'is_holi',\n",
       "       'avg_precip', 'temp_mid', 'temp_rng', 'temp_bs', 'hum_mid', 'hum_rng',\n",
       "       'wind_mid', 'wind_rng', 'pres_mid', 'pres_rng'],\n",
       "      dtype='object')"
      ]
     },
     "execution_count": 59,
     "metadata": {},
     "output_type": "execute_result"
    }
   ],
   "source": [
    "new_chi_data = pd.read_csv('transformed_data.csv', index_col=0)\n",
    "new_chi_data.columns"
   ]
  },
  {
   "cell_type": "code",
   "execution_count": 80,
   "metadata": {
    "scrolled": true
   },
   "outputs": [
    {
     "data": {
      "text/plain": [
       "Text(0, 0.5, 'Predictions')"
      ]
     },
     "execution_count": 80,
     "metadata": {},
     "output_type": "execute_result"
    },
    {
     "data": {
      "image/png": "[encoded data removed]",
      "text/plain": [
       "<Figure size 432x288 with 1 Axes>"
      ]
     },
     "metadata": {
      "needs_background": "light"
     },
     "output_type": "display_data"
    }
   ],
   "source": [
    "day_of_week = 7\n",
    "\n",
    "y = new_chi_data['total_rides']#[day_of_week::7]\n",
    "X = new_chi_data[['is_sat','is_holi','avg_precip','temp_mid','temp_rng',\n",
    "                  'temp_bs','hum_mid','hum_rng','wind_mid','wind_rng','pres_mid','pres_rng']]#[day_of_week::7]\n",
    "\n",
    "X_train, X_test, y_train, y_test = train_test_split(X, y, test_size=0.4, random_state=24)\n",
    "\n",
    "\n",
    "lm = LinearRegression()\n",
    "model = lm.fit(X_train, y_train)\n",
    "predictions = lm.predict(X_test)\n",
    "plt.scatter(y_test, predictions)\n",
    "plt.xlabel('True Values')\n",
    "plt.ylabel('Predictions')\n"
   ]
  },
  {
   "cell_type": "code",
   "execution_count": 61,
   "metadata": {},
   "outputs": [
    {
     "data": {
      "text/plain": [
       "array([-6.22546093e+05, -9.14603682e+05, -5.08676540e+04,  1.97127362e+03,\n",
       "       -6.43342813e+01,  3.57578719e+03, -1.02935012e+03,  1.06426818e+03,\n",
       "       -3.78692338e+03,  1.57246561e+02, -4.05904193e+04,  8.05495633e+03])"
      ]
     },
     "execution_count": 61,
     "metadata": {},
     "output_type": "execute_result"
    }
   ],
   "source": [
    "model.coef_"
   ]
  },
  {
   "cell_type": "code",
   "execution_count": 68,
   "metadata": {},
   "outputs": [
    {
     "name": "stdout",
     "output_type": "stream",
     "text": [
      "Training score: 0.8810399588837741\n",
      "Test score: 0.8916919020523236\n",
      "RMSE: 128853.70357171299\n"
     ]
    }
   ],
   "source": [
    "model = LinearRegression()\n",
    "model.fit(X_train, y_train)\n",
    "y_pred = model.predict(X_test)\n",
    "mse = mean_squared_error(y_test, y_pred)\n",
    "rmse = math.sqrt(mse)\n",
    "\n",
    "print(f'Training score: {model.score(X_train, y_train)}')\n",
    "print(f'Test score: {model.score(X_test, y_test)}')\n",
    "print(f'RMSE: {rmse}')"
   ]
  },
  {
   "cell_type": "code",
   "execution_count": 69,
   "metadata": {},
   "outputs": [
    {
     "name": "stdout",
     "output_type": "stream",
     "text": [
      "Training score: 0.8810362685478694\n",
      "Test score: 0.8917150450464175\n",
      "RMSE: 128839.93627326528\n"
     ]
    }
   ],
   "source": [
    "model = Ridge(alpha=alpha)\n",
    "model.fit(X_train, y_train)\n",
    "y_pred = model.predict(X_test)\n",
    "mse = mean_squared_error(y_test, y_pred)\n",
    "rmse = math.sqrt(mse)\n",
    "\n",
    "print(f'Ridge Regression (alpha={alpha})')\n",
    "print(f'Training score: {model.score(X_train, y_train)}')\n",
    "print(f'Test score: {model.score(X_test, y_test)}')\n",
    "print(f'RMSE: {rmse}')\n",
    "print()\n"
   ]
  },
  {
   "cell_type": "code",
   "execution_count": 84,
   "metadata": {
    "scrolled": true
   },
   "outputs": [
    {
     "name": "stdout",
     "output_type": "stream",
     "text": [
      "Simple Linear Regression\n",
      "Training score: 89.07%\n",
      "Test score:     87.44%\n",
      "RMSE: 138779.30236552775\n",
      "\n",
      "\n",
      "\n",
      "Ridge Regression (alpha=0.1)\n",
      "Training score: 89.07%\n",
      "Test score:     87.44%\n",
      "RMSE: 138777.51941169353\n",
      "\n",
      "Lasso Regression (alpha=0.1)\n",
      "Training score: 89.07%\n",
      "Test score:     87.44%\n",
      "RMSE: 138779.23960361892\n",
      "\n",
      "\n",
      "\n",
      "Ridge Regression (alpha=1)\n",
      "Training score: 89.07%\n",
      "Test score:     87.44%\n",
      "RMSE: 138764.15658824737\n",
      "\n",
      "Lasso Regression (alpha=1)\n",
      "Training score: 89.07%\n",
      "Test score:     87.44%\n",
      "RMSE: 138778.6753044423\n",
      "\n",
      "\n",
      "\n",
      "Ridge Regression (alpha=10)\n",
      "Training score: 89.03%\n",
      "Test score:     87.42%\n",
      "RMSE: 138880.9324078915\n",
      "\n",
      "Lasso Regression (alpha=10)\n",
      "Training score: 89.07%\n",
      "Test score:     87.44%\n",
      "RMSE: 138773.08996132863\n",
      "\n",
      "\n",
      "\n",
      "Ridge Regression (alpha=100)\n",
      "Training score: 85.82%\n",
      "Test score:     84.38%\n",
      "RMSE: 154780.38000323356\n",
      "\n",
      "Lasso Regression (alpha=100)\n",
      "Training score: 89.07%\n",
      "Test score:     87.45%\n",
      "RMSE: 138722.9897296328\n",
      "\n",
      "\n",
      "\n",
      "Ridge Regression (alpha=1000)\n",
      "Training score: 46.08%\n",
      "Test score:     44.85%\n",
      "RMSE: 290802.46485379385\n",
      "\n",
      "Lasso Regression (alpha=1000)\n",
      "Training score: 89.02%\n",
      "Test score:     87.44%\n",
      "RMSE: 138748.2383036654\n",
      "\n",
      "\n",
      "\n",
      "Ridge Regression (alpha=10000)\n",
      "Training score: 9.07%\n",
      "Test score:     7.86%\n",
      "RMSE: 375870.08717778645\n",
      "\n",
      "Lasso Regression (alpha=10000)\n",
      "Training score: 87.65%\n",
      "Test score:     86.26%\n",
      "RMSE: 145154.58683289104\n",
      "\n",
      "\n",
      "\n",
      "Ridge Regression (alpha=100000)\n",
      "Training score: 2.78%\n",
      "Test score:     1.76%\n",
      "RMSE: 388118.1243859161\n",
      "\n",
      "Lasso Regression (alpha=100000)\n",
      "Training score: 9.85%\n",
      "Test score:     9.16%\n",
      "RMSE: 373205.69039155165\n",
      "\n",
      "\n",
      "\n"
     ]
    }
   ],
   "source": [
    "model = LinearRegression()\n",
    "model.fit(X_train, y_train)\n",
    "y_pred = model.predict(X_test)\n",
    "mse = mean_squared_error(y_test, y_pred)\n",
    "rmse = math.sqrt(mse)\n",
    "\n",
    "print('Simple Linear Regression')\n",
    "print(f'Training score: {model.score(X_train, y_train):.02%}')\n",
    "print(f'Test score:     {model.score(X_test, y_test):.02%}')\n",
    "print(f'RMSE: {rmse}')\n",
    "print('\\n\\n')\n",
    "\n",
    "for alpha in [10**power for power in range(-1,6)]:\n",
    "\n",
    "    ridge_model = Ridge(alpha=alpha)\n",
    "    ridge_model.fit(X_train, y_train)\n",
    "    y_pred_ridge = ridge_model.predict(X_test)\n",
    "    mse_ridge = mean_squared_error(y_test, y_pred_ridge)\n",
    "    rmse_ridge = math.sqrt(mse_ridge)\n",
    "\n",
    "    print(f'Ridge Regression (alpha={alpha})')\n",
    "    print(f'Training score: {ridge_model.score(X_train, y_train):.02%}')\n",
    "    print(f'Test score:     {ridge_model.score(X_test, y_test):.02%}')\n",
    "    print(f'RMSE: {rmse_ridge}')\n",
    "    print()\n",
    "\n",
    "    lasso_model = Lasso(alpha=alpha)\n",
    "    lasso_model.fit(X_train, y_train)\n",
    "    y_pred_lasso = lasso_model.predict(X_test)\n",
    "    mse_lasso = mean_squared_error(y_test, y_pred_lasso)\n",
    "    rmse_lasso = math.sqrt(mse_lasso)\n",
    "\n",
    "    print(f'Lasso Regression (alpha={alpha})')\n",
    "    print(f'Training score: {lasso_model.score(X_train, y_train):.02%}')\n",
    "    print(f'Test score:     {lasso_model.score(X_test, y_test):.02%}')\n",
    "    print(f'RMSE: {rmse_lasso}')\n",
    "    print('\\n\\n')"
   ]
  },
  {
   "cell_type": "code",
   "execution_count": 41,
   "metadata": {},
   "outputs": [
    {
     "data": {
      "text/plain": [
       "1024"
      ]
     },
     "execution_count": 41,
     "metadata": {},
     "output_type": "execute_result"
    }
   ],
   "source": [
    "pow(2,10)"
   ]
  },
  {
   "cell_type": "code",
   "execution_count": 42,
   "metadata": {},
   "outputs": [
    {
     "name": "stdout",
     "output_type": "stream",
     "text": [
      "-2.0 : 0.00 0.05 0.10 0.15 0.20 0.25 0.30 0.35 0.40 0.45 0.50 0.55 0.60 0.65 0.70 0.75 0.80 0.85 0.90 0.95 1.00 \n",
      "\n",
      "-1.5 : 0.00 0.05 0.10 0.15 0.20 0.25 0.30 0.35 0.40 0.45 0.50 0.55 0.60 0.65 0.70 0.75 0.80 0.85 0.90 0.95 1.00 \n",
      "\n",
      "-1.0 : 0.00 0.05 0.10 0.15 0.20 0.25 0.30 0.35 0.40 0.45 0.50 0.55 0.60 0.65 0.70 0.75 0.80 0.85 0.90 0.95 1.00 \n",
      "\n",
      "-0.5 : 0.00 0.05 0.10 0.15 0.20 0.25 0.30 0.35 0.40 0.45 0.50 0.55 0.60 0.65 0.70 0.75 0.80 0.85 0.90 0.95 1.00 \n",
      "\n",
      " 0.0 : 0.00 0.05 0.10 0.15 0.20 0.25 0.30 0.35 0.40 0.45 0.50 0.55 0.60 0.65 0.70 0.75 0.80 0.85 0.90 0.95 1.00 \n",
      "\n",
      " 0.5 : 0.00 0.05 0.10 0.15 0.20 0.25 0.30 0.35 0.40 0.45 0.50 0.55 0.60 0.65 0.70 0.75 0.80 0.85 0.90 0.95 1.00 \n",
      "\n",
      " 1.0 : 0.00 0.05 0.10 0.15 0.20 0.25 0.30 0.35 0.40 0.45 0.50 0.55 0.60 0.65 0.70 0.75 0.80 0.85 0.90 0.95 1.00 \n",
      "\n",
      " 1.5 : 0.00 0.05 0.10 0.15 0.20 0.25 0.30 0.35 0.40 0.45 0.50 0.55 0.60 0.65 0.70 0.75 0.80 0.85 0.90 0.95 1.00 \n",
      "\n",
      " 2.0 : 0.00 0.05 0.10 0.15 0.20 0.25 0.30 0.35 0.40 0.45 0.50 0.55 0.60 0.65 0.70 0.75 0.80 0.85 0.90 0.95 1.00 \n",
      "\n",
      " 2.5 : 0.00 0.05 0.10 0.15 0.20 0.25 0.30 0.35 0.40 0.45 0.50 0.55 0.60 0.65 0.70 0.75 0.80 0.85 0.90 0.95 1.00 \n",
      "\n",
      " 3.0 : 0.00 0.05 0.10 0.15 0.20 0.25 0.30 0.35 0.40 0.45 0.50 0.55 0.60 0.65 0.70 0.75 0.80 0.85 0.90 0.95 1.00 \n",
      "\n",
      " 3.5 : 0.00 0.05 0.10 0.15 0.20 0.25 0.30 0.35 0.40 0.45 0.50 0.55 0.60 0.65 0.70 0.75 0.80 0.85 0.90 0.95 1.00 \n",
      "\n",
      " 4.0 : 0.00 0.05 0.10 0.15 0.20 0.25 0.30 0.35 0.40 0.45 0.50 0.55 0.60 0.65 0.70 0.75 0.80 0.85 0.90 0.95 1.00 \n",
      "\n",
      " 4.5 : 0.00 0.05 0.10 0.15 0.20 0.25 0.30 0.35 0.40 0.45 0.50 0.55 0.60 0.65 0.70 0.75 0.80 0.85 0.90 0.95 1.00 \n",
      "\n",
      " 5.0 : 0.00 0.05 0.10 0.15 0.20 0.25 0.30 0.35 0.40 0.45 0.50 0.55 0.60 0.65 0.70 0.75 0.80 0.85 0.90 0.95 1.00 \n",
      "\n",
      " 5.5 : 0.00 0.05 0.10 0.15 0.20 0.25 0.30 0.35 0.40 0.45 0.50 0.55 0.60 0.65 0.70 0.75 0.80 0.85 0.90 0.95 1.00 \n",
      "\n",
      " 6.0 : 0.00 0.05 0.10 0.15 0.20 0.25 0.30 0.35 0.40 0.45 0.50 0.55 0.60 0.65 0.70 0.75 0.80 0.85 0.90 0.95 1.00 \n",
      "\n"
     ]
    }
   ],
   "source": [
    "alpha_exps = np.linspace(-2,6,17)\n",
    "L1L2_ratios = np.linspace(0,1,21)\n",
    "model_grid = {round(alpha_exp,3):\n",
    "\t\t\t\t{round(L1L2_ratio,3): \n",
    "\t\t\t\t\t[] \n",
    "\t\t\t\t\t\tfor L1L2_ratio in L1L2_ratios}\n",
    "\t\t\t\t\t\t\tfor alpha_exp in alpha_exps}\n",
    "# grid = {round(alpha_exp,3):{round(L1L2_ratio,3):None for L1L2_ratio in L1L2_ratios} for alpha_exp in alpha_exps}\n",
    "for a in grid:\n",
    "    print(f'{a: }', ': ', end='')\n",
    "    for b in grid[a]:\n",
    "        print(f'{b:.2f}', end=' ')\n",
    "    print('\\n')"
   ]
  },
  {
   "cell_type": "code",
   "execution_count": 89,
   "metadata": {},
   "outputs": [],
   "source": [
    "from sklearn.model_selection import KFold, cross_val_score\n",
    "# prepare cross validation\n",
    "kfold = KFold(5, True, 34)\n",
    "# enumerate splits\n",
    "for train, test in kfold.split(new_chi_data):\n",
    "    X_train = X.iloc[train]\n",
    "    X_test = X.iloc[test]\n",
    "    y_train = y.iloc[train]\n",
    "    y_test = y.iloc[test]\n",
    "    \n",
    "    "
   ]
  },
  {
   "cell_type": "code",
   "execution_count": 1,
   "metadata": {},
   "outputs": [
    {
     "name": "stdout",
     "output_type": "stream",
     "text": [
      "Accuracy: 87.340% (2.624%)\n",
      "Accuracy: 85.687% (2.513%)\n",
      "Accuracy: 87.342% (2.621%)\n"
     ]
    }
   ],
   "source": [
    "from sklearn.linear_model import LinearRegression\n",
    "from sklearn.linear_model import Ridge\n",
    "from sklearn.linear_model import Lasso\n",
    "from sklearn.linear_model import ElasticNet\n",
    "from sklearn.metrics import mean_squared_error\n",
    "from sklearn.model_selection import train_test_split\n",
    "import pickle\n",
    "import pandas as pd\n",
    "from matplotlib import pyplot as plt\n",
    "import math\n",
    "from sklearn.model_selection import KFold, cross_val_score\n",
    "\n",
    "new_chi_data = pd.read_csv('transformed_data.csv', index_col=0)\n",
    "new_chi_data.columns\n",
    "\n",
    "y = new_chi_data['total_rides']#[day_of_week::7]\n",
    "X = new_chi_data[['is_sat','is_holi','avg_precip','temp_mid','temp_rng',\n",
    "                  'temp_bs','hum_mid','hum_rng','wind_mid','wind_rng','pres_mid','pres_rng']]#[day_of_week::7]\n",
    "\n",
    "models = {'Linear': LinearRegression(),\n",
    "          'Ridge': Ridge(alpha=100),\n",
    "          'Lasso': Lasso(alpha=100)}\n",
    "kfold = KFold(n_splits=10, random_state=34)\n",
    "model = Ridge(alpha=100)\n",
    "for model_name in models:\n",
    "    results = cross_val_score(models[model_name], X, y, cv=kfold)\n",
    "    print(\"Accuracy: %.3f%% (%.3f%%)\" % (results.mean()*100.0, results.std()*100.0))"
   ]
  },
  {
   "cell_type": "code",
   "execution_count": 94,
   "metadata": {},
   "outputs": [
    {
     "name": "stdout",
     "output_type": "stream",
     "text": [
      "2\n",
      "4\n",
      "6\n"
     ]
    }
   ],
   "source": [
    "ms = {'a': 2, 'b': 4, 'c': 6}\n",
    "for m in ms:\n",
    "    print(ms[m])"
   ]
  },
  {
   "cell_type": "code",
   "execution_count": null,
   "metadata": {},
   "outputs": [],
   "source": [
    "ElasticNet(l1_ratio=L1L2_ratio)"
   ]
  },
  {
   "cell_type": "code",
   "execution_count": null,
   "metadata": {},
   "outputs": [],
   "source": []
  },
  {
   "cell_type": "code",
   "execution_count": null,
   "metadata": {},
   "outputs": [],
   "source": []
  },
  {
   "cell_type": "code",
   "execution_count": 11,
   "metadata": {},
   "outputs": [
    {
     "data": {
      "text/plain": [
       "array([1.00000000e-02, 7.74263683e-02, 5.99484250e-01, 4.64158883e+00,\n",
       "       3.59381366e+01, 2.78255940e+02, 2.15443469e+03, 1.66810054e+04,\n",
       "       1.29154967e+05, 1.00000000e+06])"
      ]
     },
     "execution_count": 11,
     "metadata": {},
     "output_type": "execute_result"
    }
   ],
   "source": [
    "np.logspace(-2,6,10)"
   ]
  },
  {
   "cell_type": "code",
   "execution_count": null,
   "metadata": {},
   "outputs": [],
   "source": []
  },
  {
   "cell_type": "code",
   "execution_count": null,
   "metadata": {},
   "outputs": [],
   "source": []
  },
  {
   "cell_type": "code",
   "execution_count": null,
   "metadata": {},
   "outputs": [],
   "source": []
  },
  {
   "cell_type": "code",
   "execution_count": null,
   "metadata": {},
   "outputs": [],
   "source": []
  },
  {
   "cell_type": "code",
   "execution_count": null,
   "metadata": {},
   "outputs": [],
   "source": []
  },
  {
   "cell_type": "code",
   "execution_count": null,
   "metadata": {},
   "outputs": [],
   "source": []
  },
  {
   "cell_type": "code",
   "execution_count": 7,
   "metadata": {},
   "outputs": [
    {
     "name": "stdout",
     "output_type": "stream",
     "text": [
      "Automatically created module for IPython interactive environment\n"
     ]
    },
    {
     "data": {
      "image/png": "[encoded data removed]",
      "text/plain": [
       "<Figure size 1008x576 with 5 Axes>"
      ]
     },
     "metadata": {},
     "output_type": "display_data"
    }
   ],
   "source": [
    "print(__doc__)\n",
    "\n",
    "import numpy as np\n",
    "import matplotlib.pyplot as plt\n",
    "from sklearn.pipeline import Pipeline\n",
    "from sklearn.preprocessing import PolynomialFeatures\n",
    "from sklearn.linear_model import LinearRegression\n",
    "from sklearn.model_selection import cross_val_score\n",
    "\n",
    "\n",
    "def true_fun(X):\n",
    "    return np.cos(1.5 * np.pi * X)\n",
    "\n",
    "np.random.seed(7)\n",
    "\n",
    "n_samples = 30\n",
    "degrees = [1, 2, 3, 4, 15]\n",
    "rows = 2\n",
    "\n",
    "X = np.sort(np.random.rand(n_samples))\n",
    "y = true_fun(X) + np.random.randn(n_samples) * 0.1\n",
    "\n",
    "plt.figure(figsize=(14, 8))\n",
    "for i in range(len(degrees)):\n",
    "    ax = plt.subplot(rows, -(len(degrees)//-rows), i + 1)\n",
    "    plt.setp(ax, xticks=(), yticks=())\n",
    "\n",
    "    polynomial_features = PolynomialFeatures(degree=degrees[i],\n",
    "                                             include_bias=False)\n",
    "    linear_regression = LinearRegression()\n",
    "    pipeline = Pipeline([(\"polynomial_features\", polynomial_features),\n",
    "                         (\"linear_regression\", linear_regression)])\n",
    "    pipeline.fit(X[:, np.newaxis], y)\n",
    "\n",
    "    # Evaluate the models using crossvalidation\n",
    "    scores = cross_val_score(pipeline, X[:, np.newaxis], y,\n",
    "                             scoring=\"neg_mean_squared_error\", cv=10)\n",
    "\n",
    "    X_test = np.linspace(0, 1, 100)\n",
    "    plt.plot(X_test, pipeline.predict(X_test[:, np.newaxis]), label=\"Model\")\n",
    "    plt.plot(X_test, true_fun(X_test), label=\"True function\")\n",
    "    plt.scatter(X, y, edgecolor='b', s=20, label=\"Samples\")\n",
    "    plt.xlabel(\"x\")\n",
    "    plt.ylabel(\"y\")\n",
    "    plt.xlim((0, 1))\n",
    "    plt.ylim((-2, 2))\n",
    "    plt.legend(loc=\"best\")\n",
    "    plt.title(\"Degree {}\\nMSE = {:.2e}(+/- {:.2e})\".format(\n",
    "        degrees[i], -scores.mean(), scores.std()))\n",
    "plt.show()"
   ]
  },
  {
   "cell_type": "code",
   "execution_count": null,
   "metadata": {},
   "outputs": [],
   "source": []
  }
 ],
 "metadata": {
  "kernelspec": {
   "display_name": "Python 3",
   "language": "python",
   "name": "python3"
  },
  "language_info": {
   "codemirror_mode": {
    "name": "ipython",
    "version": 3
   },
   "file_extension": ".py",
   "mimetype": "text/x-python",
   "name": "python",
   "nbconvert_exporter": "python",
   "pygments_lexer": "ipython3",
   "version": "3.7.1"
  }
 },
 "nbformat": 4,
 "nbformat_minor": 2
}
