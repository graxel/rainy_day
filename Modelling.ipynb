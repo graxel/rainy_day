{
 "cells": [
  {
   "cell_type": "code",
   "execution_count": 63,
   "metadata": {},
   "outputs": [],
   "source": [
    "from sklearn.linear_model import LinearRegression\n",
    "from sklearn.linear_model import Ridge\n",
    "from sklearn.linear_model import Lasso\n",
    "from sklearn.linear_model import ElasticNet\n",
    "from sklearn.metrics import mean_squared_error\n",
    "from sklearn.model_selection import train_test_split\n",
    "import pickle\n",
    "import pandas as pd\n",
    "from matplotlib import pyplot as plt\n",
    "import math"
   ]
  },
  {
   "cell_type": "code",
   "execution_count": 59,
   "metadata": {},
   "outputs": [
    {
     "data": {
      "text/plain": [
       "Index(['bus', 'rail_boardings', 'total_rides', 'is_sat', 'is_holi',\n",
       "       'avg_precip', 'temp_mid', 'temp_rng', 'temp_bs', 'hum_mid', 'hum_rng',\n",
       "       'wind_mid', 'wind_rng', 'pres_mid', 'pres_rng'],\n",
       "      dtype='object')"
      ]
     },
     "execution_count": 59,
     "metadata": {},
     "output_type": "execute_result"
    }
   ],
   "source": [
    "new_chi_data = pd.read_csv('transformed_data.csv', index_col=0)\n",
    "new_chi_data.columns"
   ]
  },
  {
   "cell_type": "code",
   "execution_count": 80,
   "metadata": {
    "scrolled": true
   },
   "outputs": [
    {
     "data": {
      "text/plain": [
       "Text(0, 0.5, 'Predictions')"
      ]
     },
     "execution_count": 80,
     "metadata": {},
     "output_type": "execute_result"
    },
    {
     "data": {
      "image/png": "[encoded data removed]",
      "text/plain": [
       "<Figure size 432x288 with 1 Axes>"
      ]
     },
     "metadata": {
      "needs_background": "light"
     },
     "output_type": "display_data"
    }
   ],
   "source": [
    "day_of_week = 7\n",
    "\n",
    "y = new_chi_data['total_rides']#[day_of_week::7]\n",
    "X = new_chi_data[['is_sat','is_holi','avg_precip','temp_mid','temp_rng',\n",
    "                  'temp_bs','hum_mid','hum_rng','wind_mid','wind_rng','pres_mid','pres_rng']]#[day_of_week::7]\n",
    "\n",
    "X_train, X_test, y_train, y_test = train_test_split(X, y, test_size=0.4, random_state=24)\n",
    "\n",
    "\n",
    "lm = LinearRegression()\n",
    "model = lm.fit(X_train, y_train)\n",
    "predictions = lm.predict(X_test)\n",
    "plt.scatter(y_test, predictions)\n",
    "plt.xlabel('True Values')\n",
    "plt.ylabel('Predictions')\n"
   ]
  },
  {
   "cell_type": "code",
   "execution_count": 61,
   "metadata": {},
   "outputs": [
    {
     "data": {
      "text/plain": [
       "array([-6.22546093e+05, -9.14603682e+05, -5.08676540e+04,  1.97127362e+03,\n",
       "       -6.43342813e+01,  3.57578719e+03, -1.02935012e+03,  1.06426818e+03,\n",
       "       -3.78692338e+03,  1.57246561e+02, -4.05904193e+04,  8.05495633e+03])"
      ]
     },
     "execution_count": 61,
     "metadata": {},
     "output_type": "execute_result"
    }
   ],
   "source": [
    "model.coef_"
   ]
  },
  {
   "cell_type": "code",
   "execution_count": 68,
   "metadata": {},
   "outputs": [
    {
     "name": "stdout",
     "output_type": "stream",
     "text": [
      "Training score: 0.8810399588837741\n",
      "Test score: 0.8916919020523236\n",
      "RMSE: 128853.70357171299\n"
     ]
    }
   ],
   "source": [
    "model = LinearRegression()\n",
    "model.fit(X_train, y_train)\n",
    "y_pred = model.predict(X_test)\n",
    "mse = mean_squared_error(y_test, y_pred)\n",
    "rmse = math.sqrt(mse)\n",
    "\n",
    "print(f'Training score: {model.score(X_train, y_train)}')\n",
    "print(f'Test score: {model.score(X_test, y_test)}')\n",
    "print(f'RMSE: {rmse}')"
   ]
  },
  {
   "cell_type": "code",
   "execution_count": 69,
   "metadata": {},
   "outputs": [
    {
     "name": "stdout",
     "output_type": "stream",
     "text": [
      "Training score: 0.8810362685478694\n",
      "Test score: 0.8917150450464175\n",
      "RMSE: 128839.93627326528\n"
     ]
    }
   ],
   "source": [
    "model = Ridge(alpha=alpha)\n",
    "model.fit(X_train, y_train)\n",
    "y_pred = model.predict(X_test)\n",
    "mse = mean_squared_error(y_test, y_pred)\n",
    "rmse = math.sqrt(mse)\n",
    "\n",
    "print(f'Ridge Regression (alpha={alpha})')\n",
    "print(f'Training score: {model.score(X_train, y_train)}')\n",
    "print(f'Test score: {model.score(X_test, y_test)}')\n",
    "print(f'RMSE: {rmse}')\n",
    "print()\n"
   ]
  },
  {
   "cell_type": "code",
   "execution_count": 84,
   "metadata": {
    "scrolled": false
   },
   "outputs": [
    {
     "name": "stdout",
     "output_type": "stream",
     "text": [
      "Simple Linear Regression\n",
      "Training score: 89.07%\n",
      "Test score:     87.44%\n",
      "RMSE: 138779.30236552775\n",
      "\n",
      "\n",
      "\n",
      "Ridge Regression (alpha=0.1)\n",
      "Training score: 89.07%\n",
      "Test score:     87.44%\n",
      "RMSE: 138777.51941169353\n",
      "\n",
      "Lasso Regression (alpha=0.1)\n",
      "Training score: 89.07%\n",
      "Test score:     87.44%\n",
      "RMSE: 138779.23960361892\n",
      "\n",
      "\n",
      "\n",
      "Ridge Regression (alpha=1)\n",
      "Training score: 89.07%\n",
      "Test score:     87.44%\n",
      "RMSE: 138764.15658824737\n",
      "\n",
      "Lasso Regression (alpha=1)\n",
      "Training score: 89.07%\n",
      "Test score:     87.44%\n",
      "RMSE: 138778.6753044423\n",
      "\n",
      "\n",
      "\n",
      "Ridge Regression (alpha=10)\n",
      "Training score: 89.03%\n",
      "Test score:     87.42%\n",
      "RMSE: 138880.9324078915\n",
      "\n",
      "Lasso Regression (alpha=10)\n",
      "Training score: 89.07%\n",
      "Test score:     87.44%\n",
      "RMSE: 138773.08996132863\n",
      "\n",
      "\n",
      "\n",
      "Ridge Regression (alpha=100)\n",
      "Training score: 85.82%\n",
      "Test score:     84.38%\n",
      "RMSE: 154780.38000323356\n",
      "\n",
      "Lasso Regression (alpha=100)\n",
      "Training score: 89.07%\n",
      "Test score:     87.45%\n",
      "RMSE: 138722.9897296328\n",
      "\n",
      "\n",
      "\n",
      "Ridge Regression (alpha=1000)\n",
      "Training score: 46.08%\n",
      "Test score:     44.85%\n",
      "RMSE: 290802.46485379385\n",
      "\n",
      "Lasso Regression (alpha=1000)\n",
      "Training score: 89.02%\n",
      "Test score:     87.44%\n",
      "RMSE: 138748.2383036654\n",
      "\n",
      "\n",
      "\n",
      "Ridge Regression (alpha=10000)\n",
      "Training score: 9.07%\n",
      "Test score:     7.86%\n",
      "RMSE: 375870.08717778645\n",
      "\n",
      "Lasso Regression (alpha=10000)\n",
      "Training score: 87.65%\n",
      "Test score:     86.26%\n",
      "RMSE: 145154.58683289104\n",
      "\n",
      "\n",
      "\n",
      "Ridge Regression (alpha=100000)\n",
      "Training score: 2.78%\n",
      "Test score:     1.76%\n",
      "RMSE: 388118.1243859161\n",
      "\n",
      "Lasso Regression (alpha=100000)\n",
      "Training score: 9.85%\n",
      "Test score:     9.16%\n",
      "RMSE: 373205.69039155165\n",
      "\n",
      "\n",
      "\n"
     ]
    }
   ],
   "source": [
    "model = LinearRegression()\n",
    "model.fit(X_train, y_train)\n",
    "y_pred = model.predict(X_test)\n",
    "mse = mean_squared_error(y_test, y_pred)\n",
    "rmse = math.sqrt(mse)\n",
    "\n",
    "print('Simple Linear Regression')\n",
    "print(f'Training score: {model.score(X_train, y_train):.02%}')\n",
    "print(f'Test score:     {model.score(X_test, y_test):.02%}')\n",
    "print(f'RMSE: {rmse}')\n",
    "print('\\n\\n')\n",
    "\n",
    "for alpha in [10**power for power in range(-1,6)]:\n",
    "\n",
    "    ridge_model = Ridge(alpha=alpha)\n",
    "    ridge_model.fit(X_train, y_train)\n",
    "    y_pred_ridge = ridge_model.predict(X_test)\n",
    "    mse_ridge = mean_squared_error(y_test, y_pred_ridge)\n",
    "    rmse_ridge = math.sqrt(mse_ridge)\n",
    "\n",
    "    print(f'Ridge Regression (alpha={alpha})')\n",
    "    print(f'Training score: {ridge_model.score(X_train, y_train):.02%}')\n",
    "    print(f'Test score:     {ridge_model.score(X_test, y_test):.02%}')\n",
    "    print(f'RMSE: {rmse_ridge}')\n",
    "    print()\n",
    "\n",
    "    lasso_model = Lasso(alpha=alpha)\n",
    "    lasso_model.fit(X_train, y_train)\n",
    "    y_pred_lasso = lasso_model.predict(X_test)\n",
    "    mse_lasso = mean_squared_error(y_test, y_pred_lasso)\n",
    "    rmse_lasso = math.sqrt(mse_lasso)\n",
    "\n",
    "    print(f'Lasso Regression (alpha={alpha})')\n",
    "    print(f'Training score: {lasso_model.score(X_train, y_train):.02%}')\n",
    "    print(f'Test score:     {lasso_model.score(X_test, y_test):.02%}')\n",
    "    print(f'RMSE: {rmse_lasso}')\n",
    "    print('\\n\\n')"
   ]
  },
  {
   "cell_type": "code",
   "execution_count": null,
   "metadata": {},
   "outputs": [],
   "source": []
  }
 ],
 "metadata": {
  "kernelspec": {
   "display_name": "Python 3",
   "language": "python",
   "name": "python3"
  },
  "language_info": {
   "codemirror_mode": {
    "name": "ipython",
    "version": 3
   },
   "file_extension": ".py",
   "mimetype": "text/x-python",
   "name": "python",
   "nbconvert_exporter": "python",
   "pygments_lexer": "ipython3",
   "version": "3.7.1"
  }
 },
 "nbformat": 4,
 "nbformat_minor": 2
}
